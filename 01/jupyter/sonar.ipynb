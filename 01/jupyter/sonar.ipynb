{
 "cells": [
  {
   "cell_type": "code",
   "execution_count": 11,
   "metadata": {},
   "outputs": [
    {
     "name": "stdout",
     "output_type": "stream",
     "text": [
      "Part 1 is 1466\n"
     ]
    }
   ],
   "source": [
    "import os\n",
    "import sys\n",
    "with open(\"input.txt\") as f:\n",
    "    readings = f.readlines()\n",
    "readings = [int(reading) for reading in readings]\n",
    "\n",
    "increases = 0\n",
    "last_depth = sys.maxsize\n",
    "\n",
    "for reading in readings:\n",
    "    if reading > last_depth:\n",
    "        increases = increases + 1\n",
    "    last_depth = reading\n",
    "print(\"Part 1 is %d\" % (increases))\n"
   ]
  },
  {
   "cell_type": "code",
   "execution_count": 12,
   "metadata": {},
   "outputs": [
    {
     "name": "stdout",
     "output_type": "stream",
     "text": [
      "Part 2 is 1491\n"
     ]
    }
   ],
   "source": [
    "increases = 0\n",
    "last_depth = sys.maxsize\n",
    "\n",
    "for pointer in range(len(readings) - 2):\n",
    "    window1 = readings[pointer] + \\\n",
    "        readings[pointer + 1] + readings[pointer + 2]\n",
    "    if window1 > last_depth:\n",
    "        increases = increases + 1\n",
    "    last_depth = window1\n",
    "print(\"Part 2 is %d\" % (increases))\n"
   ]
  }
 ],
 "metadata": {
  "interpreter": {
   "hash": "2be5faf79681da6f2a61fdfdd5405d65d042280f7fba6178067603e3a2925119"
  },
  "kernelspec": {
   "display_name": "Python 3.10.1 64-bit",
   "language": "python",
   "name": "python3"
  },
  "language_info": {
   "codemirror_mode": {
    "name": "ipython",
    "version": 3
   },
   "file_extension": ".py",
   "mimetype": "text/x-python",
   "name": "python",
   "nbconvert_exporter": "python",
   "pygments_lexer": "ipython3",
   "version": "3.10.1"
  },
  "orig_nbformat": 4
 },
 "nbformat": 4,
 "nbformat_minor": 2
}
